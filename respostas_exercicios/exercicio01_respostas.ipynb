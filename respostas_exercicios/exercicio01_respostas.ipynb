{
 "cells": [
  {
   "cell_type": "markdown",
   "metadata": {
    "collapsed": true,
    "pycharm": {
     "name": "#%% md\n"
    }
   },
   "source": [
    "## Exercícios - Aula 01"
   ]
  },
  {
   "cell_type": "markdown",
   "source": [
    "1) Escolha um número entre 1 e 10 e armazene ele numa variável chamada *segredo*. Escolha outro número entre 1 e 10 novamente e salve ele numa variável chamada *chute*. Depois, escreva testes condicionais usando *if*, *else* e *elif* para exibir a mensagem \"muito menor\" se *chute* é menor do que *segredo*, \"muito maior\" se *chute* é maior do que *segredo* e \"na mosca\" se *chute* for igual à *segredo*.\n",
    "\n",
    "2) Escreva uma cadeia de instrucões *if*-*elif*-*else* que determine o estágio da vida de uma pessoa. Defina um valor para a variável *idade* e então:\n",
    "- Se a pessoa tiver menos de 2 anos de idade, mostre uma mensagem dizendo que ela ainda é um bebê.\n",
    "- Se a pessoa tiver pelo menos 2 anos, mas menos de 4, mostre uma mensagem dizendo que ela é uma crianca.\n",
    "- Se a pessoa tiver pelo menos 4 anos, mas menos de 13, mostre uma mensagem dizendo que ela é um(a) goroto(a).\n",
    "- Se a pessoa tiver pelo menos 13 anos, mas menos de 20, mostre uma mensagem dizendo que ela é um(a) adolescente.\n",
    "- Se a pessoa tiver pelo menos 20 anos, mas menos de 65, mostre uma mensagem dizendo que ela é um(a) adulto(a).\n",
    "- Se a pessoa tiver 65 anos ou mais, mostre uma mensagem dizendo que ela é uma pessoa idosa.\n",
    "\n",
    "3) Crie uma lista com cinco ou mais nomes de usuários, incluindo o nome \"admin\". Suponha que você esteja escrevendo um código que exibirá uma saudacão a cada usuário depois que eles fizerem login em um site. Percorra a lista com um laco e mostre uma saudacão para cada usuário:\n",
    "- Se o nome do usuário for \"admin\", mostre uma saudacão especial, por exemplo, \"Olá admin, gostaria de ver o relatório de status?\"\n",
    "- Caso contrário, mostre a saudacão genérica, como \"Olá José, obrigado por fazer login novamente\".\n",
    "\n",
    "4) A partir do exercício anterior, modifique o código criado para acrescentar um teste if que verifica se a lista de usuarios está vazia.\n",
    "- Se a lista de usuários estiver vazia, mostre a mensagem \"Precisamos encontrar alguns usuários!\". Remova todos os nomes de usuários da lista e certifique-se de que essa mensagem aparecerá.\n",
    "\n",
    "5) Crie um programa que simule o modo como os sites garantem que todos tenham um nome de usuário único.\n",
    "- Crie uma lista chamada *current_users* com cinco ou mais nomes de usuários\n",
    "- Crie uma list chamada *new_users* com cinco nomes de usuários. Garanta que dois dos novos usuários também estejam na lista *current_users*\n",
    "- Percorra a lista *new_users* com um laco para ver se cada novo nome de usuário já foi usado. Em caso afirmativo, mostre uma mensagem afirmando que a pessoa deverá fornecer um novo nome. Se um usuário não foi usado, apresente uma mensagem dizendo que o nome do usuário está disponível.\n",
    "- Certifique-se de que sua comparacão não levará em conta as diferencas entre letras maiúsculas e minúsculas. Se \"Pedro\" foi usado, \"PEDRO\" não deverá ser aceito.\n",
    "\n",
    "6) Números ordinais indicam sua posicão em uma lista, por exemplo, 1st, 2nd, em inglês. A maioria dos números ordinais nessa língua termina com th, exceto, 1, 2 e 3.\n",
    "- Armazene os números de 1 a 9 em uma lista.\n",
    "- Pecorra essa lista com um laco.\n",
    "- Use uma cadeia de instrucões *if*-*elif*-*else* que exiba a terminacão apropriada para cada número ordinal. Sua saída deverá conter \"1st 2nd 3rd 4th 5th 6th 7th 8th 9th\" e cada resultado deve estar em uma linha separada"
   ],
   "metadata": {
    "collapsed": false,
    "pycharm": {
     "name": "#%% md\n"
    }
   }
  },
  {
   "cell_type": "markdown",
   "source": [
    "## Questão 1"
   ],
   "metadata": {
    "collapsed": false,
    "pycharm": {
     "name": "#%% md\n"
    }
   }
  },
  {
   "cell_type": "code",
   "execution_count": 4,
   "outputs": [
    {
     "name": "stdout",
     "output_type": "stream",
     "text": [
      "Na mosca!\n"
     ]
    }
   ],
   "source": [
    "segredo = 5 # podem trocar os números para testar as condicões\n",
    "chute = 5\n",
    "\n",
    "if chute < segredo:\n",
    "    print(\"Muito menor\")\n",
    "elif chute > segredo:\n",
    "    print(\"Muito maior\")\n",
    "else:\n",
    "    print(\"Na mosca!\")"
   ],
   "metadata": {
    "collapsed": false,
    "pycharm": {
     "name": "#%%\n"
    }
   }
  },
  {
   "cell_type": "code",
   "execution_count": null,
   "outputs": [],
   "source": [
    "## Questão 2"
   ],
   "metadata": {
    "collapsed": false,
    "pycharm": {
     "name": "#%%\n"
    }
   }
  },
  {
   "cell_type": "code",
   "execution_count": 8,
   "outputs": [
    {
     "name": "stdout",
     "output_type": "stream",
     "text": [
      "Você é uma pessoa idosa!\n"
     ]
    }
   ],
   "source": [
    "idade = 65\n",
    "\n",
    "if idade < 2:\n",
    "    print(\"Você ainda é um bebê!\")\n",
    "elif idade < 4: # elif 2 <= idade < 4 também funciona\n",
    "    print(\"Você é uma crianca!\")\n",
    "elif idade < 13: # 4 <= idade < 13 também funciona\n",
    "    print(\"Você ainda é um(a) garoto(a)!\")\n",
    "elif idade < 20: # 13<= idade < 20 também funciona\n",
    "    print(\"Você ainda é um(a) adolescente\") # desconsiderem que a maioridade é 18 anos\n",
    "elif idade < 65: # 20 <= idade < 65 também funciona\n",
    "    print(\"Você é um(a) adulto(a)!\")\n",
    "else:\n",
    "    print(\"Você é uma pessoa idosa!\")"
   ],
   "metadata": {
    "collapsed": false,
    "pycharm": {
     "name": "#%%\n"
    }
   }
  },
  {
   "cell_type": "markdown",
   "source": [
    "## Questão 3"
   ],
   "metadata": {
    "collapsed": false,
    "pycharm": {
     "name": "#%% md\n"
    }
   }
  },
  {
   "cell_type": "code",
   "execution_count": 10,
   "outputs": [
    {
     "name": "stdout",
     "output_type": "stream",
     "text": [
      "Olá  Maria , obrigado por fazer login novamente\n",
      "Olá  João , obrigado por fazer login novamente\n",
      "Olá  Julia , obrigado por fazer login novamente\n",
      "Olá admin, gostaria de ver o relatório de status?\n",
      "Olá  Pedro , obrigado por fazer login novamente\n"
     ]
    }
   ],
   "source": [
    "users_list = [\"Maria\", \"João\", \"Julia\", \"admin\", \"Pedro\"]\n",
    "\n",
    "for user in users_list:\n",
    "    if user == \"admin\":\n",
    "        print(\"Olá admin, gostaria de ver o relatório de status?\")\n",
    "    else:\n",
    "        print(\"Olá \", user, \", obrigado por fazer login novamente\")"
   ],
   "metadata": {
    "collapsed": false,
    "pycharm": {
     "name": "#%%\n"
    }
   }
  },
  {
   "cell_type": "markdown",
   "source": [
    "## Questão 4"
   ],
   "metadata": {
    "collapsed": false,
    "pycharm": {
     "name": "#%% md\n"
    }
   }
  },
  {
   "cell_type": "markdown",
   "source": [
    "Há outros jeitos de se fazer este exercício, principalmente na parte de checar se uma lista é vazia. Deixo este [link](https://flexiple.com/python/check-if-list-is-empty-python/) para consulta"
   ],
   "metadata": {
    "collapsed": false,
    "pycharm": {
     "name": "#%% md\n"
    }
   }
  },
  {
   "cell_type": "code",
   "execution_count": null,
   "outputs": [],
   "source": [
    "users_list = [\"Maria\", \"João\", \"Julia\", \"admin\", \"Pedro\"]\n",
    "\n",
    "if users_list: # se a lista existe\n",
    "    for user in users_list: # para cada usuario da lista de usuarios\n",
    "        if user == \"admin\":\n",
    "            print(\"Olá admin, gostaria de ver o relatório de status?\")\n",
    "        else:\n",
    "            print(\"Olá \", user, \", obrigado por fazer login novamente\")\n",
    "else:\n",
    "    print(\"Precisamos encontrar alguns usuários!\")"
   ],
   "metadata": {
    "collapsed": false,
    "pycharm": {
     "name": "#%%\n"
    }
   }
  },
  {
   "cell_type": "markdown",
   "source": [
    "## Questão 5\n",
    "Nesta questão deixei indicado duas possibilidades de respostas. Para garantir que a nossa comparacão não levará em conta as diferencas entre letras maiúsculas e minúsculas precisamos primeiro padronizar todos os nomes. Nessa resolucão vamos padronizar para que todos sejam escritos em letra minúscula.\n"
   ],
   "metadata": {
    "collapsed": false,
    "pycharm": {
     "name": "#%% md\n"
    }
   }
  },
  {
   "cell_type": "code",
   "execution_count": 20,
   "outputs": [
    {
     "name": "stdout",
     "output_type": "stream",
     "text": [
      "O nome bruna  de usuário está disponível!\n",
      "O nome carol  de usuário está disponível!\n",
      "O nome carlos  de usuário está disponível!\n",
      "O nome  amanda  já está em uso. Por favor, escolha outro nome de usuário\n",
      "O nome  pedro  já está em uso. Por favor, escolha outro nome de usuário\n"
     ]
    }
   ],
   "source": [
    "# Estratégia 1\n",
    "\n",
    "current_users = [\"Maria\", \"João\", \"Julia\", \"Amanda\", \"Pedro\"]\n",
    "new_users = [\"Bruna\", \"Carol\", \"Carlos\", \"Amanda\", \"Pedro\"]\n",
    "\n",
    "#garantir que todos os usuarios atuais possuam seus nomes escritos em letra minuscula\n",
    "lower_current_users = []\n",
    "for user in current_users:\n",
    "    user = user.lower()\n",
    "    lower_current_users.append(user)\n",
    "\n",
    "#para cada novo usuario\n",
    "for new_user in new_users:\n",
    "    new_user = new_user.lower() # deixe o nome dele em minusculo\n",
    "    if new_user in lower_current_users: # checa se o nome já está em uso\n",
    "        print(\"O nome \", new_user, \" já está em uso. Por favor, escolha outro nome de usuário\")\n",
    "    else: # se não estiver em uso, pode ser utilizado pelo novo usuário\n",
    "        print(\"O nome\", new_user, \" de usuário está disponível!\")"
   ],
   "metadata": {
    "collapsed": false,
    "pycharm": {
     "name": "#%%\n"
    }
   }
  },
  {
   "cell_type": "code",
   "execution_count": 15,
   "outputs": [
    {
     "name": "stdout",
     "output_type": "stream",
     "text": [
      "O nome bruna  de usuário está disponível!\n",
      "O nome carol  de usuário está disponível!\n",
      "O nome carlos  de usuário está disponível!\n",
      "O nome  amanda  já está em uso. Por favor, escolha outro nome de usuário\n",
      "O nome  pedro  já está em uso. Por favor, escolha outro nome de usuário\n"
     ]
    }
   ],
   "source": [
    "# Estratégia 2 - vejam que esta é mais curta!\n",
    "\n",
    "current_users = [\"Maria\", \"João\", \"Julia\", \"Amanda\", \"Pedro\"]\n",
    "new_users = [\"Bruna\", \"Carol\", \"Carlos\", \"Amanda\", \"Pedro\"]\n",
    "\n",
    "for new_user, user in zip(new_users, current_users): # o truque foi usar o comando zip\n",
    "        new_user = new_user.lower()\n",
    "        user = user.lower()\n",
    "        if new_user == user:\n",
    "            print(\"O nome \", new_user, \" já está em uso. Por favor, escolha outro nome de usuário\")\n",
    "        else:\n",
    "            print(\"O nome\", new_user, \" de usuário está disponível!\")"
   ],
   "metadata": {
    "collapsed": false,
    "pycharm": {
     "name": "#%%\n"
    }
   }
  },
  {
   "cell_type": "markdown",
   "source": [
    "## Questão 6\n",
    "A dica neste exercício é usarmos o comando range para criar uma sequência de números sem precisar criar um número por vez na mão."
   ],
   "metadata": {
    "collapsed": false,
    "pycharm": {
     "name": "#%% md\n"
    }
   }
  },
  {
   "cell_type": "code",
   "execution_count": 24,
   "outputs": [
    {
     "name": "stdout",
     "output_type": "stream",
     "text": [
      "1 st\n",
      "2 nd\n",
      "3 rd\n",
      "4 th\n",
      "5 th\n",
      "6 th\n",
      "7 th\n",
      "8 th\n",
      "9 th\n"
     ]
    }
   ],
   "source": [
    "number_list = list(range(1, 10))\n",
    "# print(number_list)\n",
    "for n in number_list:\n",
    "    if n == 1:\n",
    "        print(n,\"st\")\n",
    "    elif n == 2:\n",
    "        print(n, \"nd\")\n",
    "    elif n == 3:\n",
    "        print(n,\"rd\")\n",
    "    else:\n",
    "        print(n,\"th\")"
   ],
   "metadata": {
    "collapsed": false,
    "pycharm": {
     "name": "#%%\n"
    }
   }
  }
 ],
 "metadata": {
  "kernelspec": {
   "display_name": "Python 3",
   "language": "python",
   "name": "python3"
  },
  "language_info": {
   "codemirror_mode": {
    "name": "ipython",
    "version": 2
   },
   "file_extension": ".py",
   "mimetype": "text/x-python",
   "name": "python",
   "nbconvert_exporter": "python",
   "pygments_lexer": "ipython2",
   "version": "2.7.6"
  }
 },
 "nbformat": 4,
 "nbformat_minor": 0
}