{
 "cells": [
  {
   "cell_type": "markdown",
   "source": [
    "Os comandos abaixo carregam o famoso dataset do titanic no objeto chamado *df*. Explore a tabela e responda as seguintes questões **sempre colocando o código em Python utilizado para chegar às respostas.**\n",
    "\n",
    "1) Quantas pessoas sobreviveram ao acidente?\n",
    "2) Quantas criancas menores de 12 anos sobreviveram ao acidente?\n",
    "3) Quantas pessoas embarcaram nos portos de Southampton OU Queenstow?\n",
    "4) Crie um objeto chamado **passageiras** que seleciona somente as passageiras.\n",
    "5) Crie um objeto chamado **criancas_cherbourg** que seleciona as crianças com menos de 12 anos E que embarcaram na cidade de Cherbourg.\n",
    "6) Crie um objeto chamado **titanic_menor** e selecione as colunas de *nome*, *idade*, *classe* e *embarque*\n",
    "7) Supondo que o valor da tarifa no dataset está em libras, e que 1£ = R$ 6.43, crie uma nova coluna chamada **tarifa_real** que contenha a tarifa de embarque em reais.\n",
    "8) Agrupe pela coluna sobreviveu e calcule o número de passageiros por grupo (sim/nao)\n",
    "9) Agrupe pelo local de embarque e calcule a média e a mediana da tarifa de cada grupo.\n",
    "10) Agrupe pela classe e conte a quantidade de pessoas por classe\n",
    "11) Agrupe pela classe e pela coluna sobreviveu e conte a quantidade de pessoas que sobreviveu de acordo com cada classe. Quem sobreviveu mais? A classe mais alta ou a mais baixa?\n",
    "12) Agrupe pelo sexo e pela coluna sobreviveu e conte a quantidade de pessoas que sobreviveram de acordo com o sexo. Quem sobreviveu mais? Homens ou mulheres?"
   ],
   "metadata": {
    "collapsed": false
   }
  },
  {
   "cell_type": "code",
   "execution_count": 1,
   "outputs": [],
   "source": [
    "import pandas as pd"
   ],
   "metadata": {
    "collapsed": false,
    "pycharm": {
     "name": "#%%\n"
    }
   }
  },
  {
   "cell_type": "code",
   "execution_count": 2,
   "outputs": [
    {
     "data": {
      "text/plain": "     id_passageiro sobreviveu  classe  \\\n0                1        nao       3   \n1                2        sim       1   \n2                3        sim       3   \n3                4        sim       1   \n4                5        nao       3   \n..             ...        ...     ...   \n886            887        nao       2   \n887            888        sim       1   \n888            889        nao       3   \n889            890        sim       1   \n890            891        nao       3   \n\n                                                  nome       sexo  idade  \\\n0                              Braund, Mr. Owen Harris  masculino   22.0   \n1    Cumings, Mrs. John Bradley (Florence Briggs Th...   feminino   38.0   \n2                               Heikkinen, Miss. Laina   feminino   26.0   \n3         Futrelle, Mrs. Jacques Heath (Lily May Peel)   feminino   35.0   \n4                             Allen, Mr. William Henry  masculino   35.0   \n..                                                 ...        ...    ...   \n886                              Montvila, Rev. Juozas  masculino   27.0   \n887                       Graham, Miss. Margaret Edith   feminino   19.0   \n888           Johnston, Miss. Catherine Helen \"Carrie\"   feminino    NaN   \n889                              Behr, Mr. Karl Howell  masculino   26.0   \n890                                Dooley, Mr. Patrick  masculino   32.0   \n\n     irmaos_conjuge  pais_criancas          passagem     tarifa cabine  \\\n0                 1              0         A/5 21171     7.2500    NaN   \n1                 1              0          PC 17599    71.2833    C85   \n2                 0              0  STON/O2. 3101282  7925.0000    NaN   \n3                 1              0            113803    53.1000   C123   \n4                 0              0            373450     8.0500    NaN   \n..              ...            ...               ...        ...    ...   \n886               0              0            211536    13.0000    NaN   \n887               0              0            112053    30.0000    B42   \n888               1              2        W./C. 6607    23.4500    NaN   \n889               0              0            111369    30.0000   C148   \n890               0              0            370376     7.7500    NaN   \n\n        embarque  \n0    Southampton  \n1      Cherbourg  \n2    Southampton  \n3    Southampton  \n4    Southampton  \n..           ...  \n886  Southampton  \n887  Southampton  \n888  Southampton  \n889    Cherbourg  \n890    Queenstow  \n\n[891 rows x 12 columns]",
      "text/html": "<div>\n<style scoped>\n    .dataframe tbody tr th:only-of-type {\n        vertical-align: middle;\n    }\n\n    .dataframe tbody tr th {\n        vertical-align: top;\n    }\n\n    .dataframe thead th {\n        text-align: right;\n    }\n</style>\n<table border=\"1\" class=\"dataframe\">\n  <thead>\n    <tr style=\"text-align: right;\">\n      <th></th>\n      <th>id_passageiro</th>\n      <th>sobreviveu</th>\n      <th>classe</th>\n      <th>nome</th>\n      <th>sexo</th>\n      <th>idade</th>\n      <th>irmaos_conjuge</th>\n      <th>pais_criancas</th>\n      <th>passagem</th>\n      <th>tarifa</th>\n      <th>cabine</th>\n      <th>embarque</th>\n    </tr>\n  </thead>\n  <tbody>\n    <tr>\n      <th>0</th>\n      <td>1</td>\n      <td>nao</td>\n      <td>3</td>\n      <td>Braund, Mr. Owen Harris</td>\n      <td>masculino</td>\n      <td>22.0</td>\n      <td>1</td>\n      <td>0</td>\n      <td>A/5 21171</td>\n      <td>7.2500</td>\n      <td>NaN</td>\n      <td>Southampton</td>\n    </tr>\n    <tr>\n      <th>1</th>\n      <td>2</td>\n      <td>sim</td>\n      <td>1</td>\n      <td>Cumings, Mrs. John Bradley (Florence Briggs Th...</td>\n      <td>feminino</td>\n      <td>38.0</td>\n      <td>1</td>\n      <td>0</td>\n      <td>PC 17599</td>\n      <td>71.2833</td>\n      <td>C85</td>\n      <td>Cherbourg</td>\n    </tr>\n    <tr>\n      <th>2</th>\n      <td>3</td>\n      <td>sim</td>\n      <td>3</td>\n      <td>Heikkinen, Miss. Laina</td>\n      <td>feminino</td>\n      <td>26.0</td>\n      <td>0</td>\n      <td>0</td>\n      <td>STON/O2. 3101282</td>\n      <td>7925.0000</td>\n      <td>NaN</td>\n      <td>Southampton</td>\n    </tr>\n    <tr>\n      <th>3</th>\n      <td>4</td>\n      <td>sim</td>\n      <td>1</td>\n      <td>Futrelle, Mrs. Jacques Heath (Lily May Peel)</td>\n      <td>feminino</td>\n      <td>35.0</td>\n      <td>1</td>\n      <td>0</td>\n      <td>113803</td>\n      <td>53.1000</td>\n      <td>C123</td>\n      <td>Southampton</td>\n    </tr>\n    <tr>\n      <th>4</th>\n      <td>5</td>\n      <td>nao</td>\n      <td>3</td>\n      <td>Allen, Mr. William Henry</td>\n      <td>masculino</td>\n      <td>35.0</td>\n      <td>0</td>\n      <td>0</td>\n      <td>373450</td>\n      <td>8.0500</td>\n      <td>NaN</td>\n      <td>Southampton</td>\n    </tr>\n    <tr>\n      <th>...</th>\n      <td>...</td>\n      <td>...</td>\n      <td>...</td>\n      <td>...</td>\n      <td>...</td>\n      <td>...</td>\n      <td>...</td>\n      <td>...</td>\n      <td>...</td>\n      <td>...</td>\n      <td>...</td>\n      <td>...</td>\n    </tr>\n    <tr>\n      <th>886</th>\n      <td>887</td>\n      <td>nao</td>\n      <td>2</td>\n      <td>Montvila, Rev. Juozas</td>\n      <td>masculino</td>\n      <td>27.0</td>\n      <td>0</td>\n      <td>0</td>\n      <td>211536</td>\n      <td>13.0000</td>\n      <td>NaN</td>\n      <td>Southampton</td>\n    </tr>\n    <tr>\n      <th>887</th>\n      <td>888</td>\n      <td>sim</td>\n      <td>1</td>\n      <td>Graham, Miss. Margaret Edith</td>\n      <td>feminino</td>\n      <td>19.0</td>\n      <td>0</td>\n      <td>0</td>\n      <td>112053</td>\n      <td>30.0000</td>\n      <td>B42</td>\n      <td>Southampton</td>\n    </tr>\n    <tr>\n      <th>888</th>\n      <td>889</td>\n      <td>nao</td>\n      <td>3</td>\n      <td>Johnston, Miss. Catherine Helen \"Carrie\"</td>\n      <td>feminino</td>\n      <td>NaN</td>\n      <td>1</td>\n      <td>2</td>\n      <td>W./C. 6607</td>\n      <td>23.4500</td>\n      <td>NaN</td>\n      <td>Southampton</td>\n    </tr>\n    <tr>\n      <th>889</th>\n      <td>890</td>\n      <td>sim</td>\n      <td>1</td>\n      <td>Behr, Mr. Karl Howell</td>\n      <td>masculino</td>\n      <td>26.0</td>\n      <td>0</td>\n      <td>0</td>\n      <td>111369</td>\n      <td>30.0000</td>\n      <td>C148</td>\n      <td>Cherbourg</td>\n    </tr>\n    <tr>\n      <th>890</th>\n      <td>891</td>\n      <td>nao</td>\n      <td>3</td>\n      <td>Dooley, Mr. Patrick</td>\n      <td>masculino</td>\n      <td>32.0</td>\n      <td>0</td>\n      <td>0</td>\n      <td>370376</td>\n      <td>7.7500</td>\n      <td>NaN</td>\n      <td>Queenstow</td>\n    </tr>\n  </tbody>\n</table>\n<p>891 rows × 12 columns</p>\n</div>"
     },
     "execution_count": 2,
     "metadata": {},
     "output_type": "execute_result"
    }
   ],
   "source": [
    "df = pd.read_csv('../dados/titanic.csv')\n",
    "df"
   ],
   "metadata": {
    "collapsed": false,
    "pycharm": {
     "name": "#%%\n"
    }
   }
  },
  {
   "cell_type": "code",
   "execution_count": 9,
   "outputs": [
    {
     "data": {
      "text/plain": "342"
     },
     "execution_count": 9,
     "metadata": {},
     "output_type": "execute_result"
    }
   ],
   "source": [
    "# questão 1\n",
    "# 342 pessoas sobreviveram\n",
    "df.loc[df[\"sobreviveu\" ]== \"sim\"].shape[0]\n",
    "# len(df.loc[df[\"sobreviveu\" ]== \"sim\"]) também funciona"
   ],
   "metadata": {
    "collapsed": false,
    "pycharm": {
     "name": "#%%\n"
    }
   }
  },
  {
   "cell_type": "code",
   "execution_count": 10,
   "outputs": [
    {
     "data": {
      "text/plain": "39"
     },
     "execution_count": 10,
     "metadata": {},
     "output_type": "execute_result"
    }
   ],
   "source": [
    "# questão 2\n",
    "# 39 criancas menores 12 anos sobreviveram\n",
    "df.loc[(df[\"idade\"] < 12) & (df[\"sobreviveu\" ]== \"sim\")].shape[0]\n",
    "# len(df.loc[(df[\"idade\"] < 12) & (df[\"sobreviveu\" ]== \"sim\")]) também funciona"
   ],
   "metadata": {
    "collapsed": false,
    "pycharm": {
     "name": "#%%\n"
    }
   }
  },
  {
   "cell_type": "code",
   "execution_count": 12,
   "outputs": [
    {
     "data": {
      "text/plain": "721"
     },
     "execution_count": 12,
     "metadata": {},
     "output_type": "execute_result"
    }
   ],
   "source": [
    "# questao 3\n",
    "# 721 pessoas embarcaram nos portos de Southampton OU Queenstow\n",
    "df.loc[(df[\"embarque\"] == \"Southampton\") | (df[\"embarque\"] == \"Queenstow\")].shape[0]\n",
    "# len(df.loc[(df[\"embarque\"] == \"Southampton\") | (df[\"embarque\"] == \"Queenstow\")])"
   ],
   "metadata": {
    "collapsed": false,
    "pycharm": {
     "name": "#%%\n"
    }
   }
  },
  {
   "cell_type": "code",
   "execution_count": 4,
   "outputs": [
    {
     "data": {
      "text/plain": "     id_passageiro sobreviveu  classe  \\\n1                2        sim       1   \n2                3        sim       3   \n3                4        sim       1   \n8                9        sim       3   \n9               10        sim       2   \n..             ...        ...     ...   \n880            881        sim       2   \n882            883        nao       3   \n885            886        nao       3   \n887            888        sim       1   \n888            889        nao       3   \n\n                                                  nome      sexo  idade  \\\n1    Cumings, Mrs. John Bradley (Florence Briggs Th...  feminino   38.0   \n2                               Heikkinen, Miss. Laina  feminino   26.0   \n3         Futrelle, Mrs. Jacques Heath (Lily May Peel)  feminino   35.0   \n8    Johnson, Mrs. Oscar W (Elisabeth Vilhelmina Berg)  feminino   27.0   \n9                  Nasser, Mrs. Nicholas (Adele Achem)  feminino   14.0   \n..                                                 ...       ...    ...   \n880       Shelley, Mrs. William (Imanita Parrish Hall)  feminino   25.0   \n882                       Dahlberg, Miss. Gerda Ulrika  feminino   22.0   \n885               Rice, Mrs. William (Margaret Norton)  feminino   39.0   \n887                       Graham, Miss. Margaret Edith  feminino   19.0   \n888           Johnston, Miss. Catherine Helen \"Carrie\"  feminino    NaN   \n\n     irmaos_conjuge  pais_criancas          passagem      tarifa cabine  \\\n1                 1              0          PC 17599     71.2833    C85   \n2                 0              0  STON/O2. 3101282   7925.0000    NaN   \n3                 1              0            113803     53.1000   C123   \n8                 0              2            347742     11.1333    NaN   \n9                 1              0            237736     30.0708    NaN   \n..              ...            ...               ...         ...    ...   \n880               0              1            230433     26.0000    NaN   \n882               0              0              7552     10.5167    NaN   \n885               0              5            382652  29125.0000    NaN   \n887               0              0            112053     30.0000    B42   \n888               1              2        W./C. 6607     23.4500    NaN   \n\n        embarque  \n1      Cherbourg  \n2    Southampton  \n3    Southampton  \n8    Southampton  \n9      Cherbourg  \n..           ...  \n880  Southampton  \n882  Southampton  \n885    Queenstow  \n887  Southampton  \n888  Southampton  \n\n[314 rows x 12 columns]",
      "text/html": "<div>\n<style scoped>\n    .dataframe tbody tr th:only-of-type {\n        vertical-align: middle;\n    }\n\n    .dataframe tbody tr th {\n        vertical-align: top;\n    }\n\n    .dataframe thead th {\n        text-align: right;\n    }\n</style>\n<table border=\"1\" class=\"dataframe\">\n  <thead>\n    <tr style=\"text-align: right;\">\n      <th></th>\n      <th>id_passageiro</th>\n      <th>sobreviveu</th>\n      <th>classe</th>\n      <th>nome</th>\n      <th>sexo</th>\n      <th>idade</th>\n      <th>irmaos_conjuge</th>\n      <th>pais_criancas</th>\n      <th>passagem</th>\n      <th>tarifa</th>\n      <th>cabine</th>\n      <th>embarque</th>\n    </tr>\n  </thead>\n  <tbody>\n    <tr>\n      <th>1</th>\n      <td>2</td>\n      <td>sim</td>\n      <td>1</td>\n      <td>Cumings, Mrs. John Bradley (Florence Briggs Th...</td>\n      <td>feminino</td>\n      <td>38.0</td>\n      <td>1</td>\n      <td>0</td>\n      <td>PC 17599</td>\n      <td>71.2833</td>\n      <td>C85</td>\n      <td>Cherbourg</td>\n    </tr>\n    <tr>\n      <th>2</th>\n      <td>3</td>\n      <td>sim</td>\n      <td>3</td>\n      <td>Heikkinen, Miss. Laina</td>\n      <td>feminino</td>\n      <td>26.0</td>\n      <td>0</td>\n      <td>0</td>\n      <td>STON/O2. 3101282</td>\n      <td>7925.0000</td>\n      <td>NaN</td>\n      <td>Southampton</td>\n    </tr>\n    <tr>\n      <th>3</th>\n      <td>4</td>\n      <td>sim</td>\n      <td>1</td>\n      <td>Futrelle, Mrs. Jacques Heath (Lily May Peel)</td>\n      <td>feminino</td>\n      <td>35.0</td>\n      <td>1</td>\n      <td>0</td>\n      <td>113803</td>\n      <td>53.1000</td>\n      <td>C123</td>\n      <td>Southampton</td>\n    </tr>\n    <tr>\n      <th>8</th>\n      <td>9</td>\n      <td>sim</td>\n      <td>3</td>\n      <td>Johnson, Mrs. Oscar W (Elisabeth Vilhelmina Berg)</td>\n      <td>feminino</td>\n      <td>27.0</td>\n      <td>0</td>\n      <td>2</td>\n      <td>347742</td>\n      <td>11.1333</td>\n      <td>NaN</td>\n      <td>Southampton</td>\n    </tr>\n    <tr>\n      <th>9</th>\n      <td>10</td>\n      <td>sim</td>\n      <td>2</td>\n      <td>Nasser, Mrs. Nicholas (Adele Achem)</td>\n      <td>feminino</td>\n      <td>14.0</td>\n      <td>1</td>\n      <td>0</td>\n      <td>237736</td>\n      <td>30.0708</td>\n      <td>NaN</td>\n      <td>Cherbourg</td>\n    </tr>\n    <tr>\n      <th>...</th>\n      <td>...</td>\n      <td>...</td>\n      <td>...</td>\n      <td>...</td>\n      <td>...</td>\n      <td>...</td>\n      <td>...</td>\n      <td>...</td>\n      <td>...</td>\n      <td>...</td>\n      <td>...</td>\n      <td>...</td>\n    </tr>\n    <tr>\n      <th>880</th>\n      <td>881</td>\n      <td>sim</td>\n      <td>2</td>\n      <td>Shelley, Mrs. William (Imanita Parrish Hall)</td>\n      <td>feminino</td>\n      <td>25.0</td>\n      <td>0</td>\n      <td>1</td>\n      <td>230433</td>\n      <td>26.0000</td>\n      <td>NaN</td>\n      <td>Southampton</td>\n    </tr>\n    <tr>\n      <th>882</th>\n      <td>883</td>\n      <td>nao</td>\n      <td>3</td>\n      <td>Dahlberg, Miss. Gerda Ulrika</td>\n      <td>feminino</td>\n      <td>22.0</td>\n      <td>0</td>\n      <td>0</td>\n      <td>7552</td>\n      <td>10.5167</td>\n      <td>NaN</td>\n      <td>Southampton</td>\n    </tr>\n    <tr>\n      <th>885</th>\n      <td>886</td>\n      <td>nao</td>\n      <td>3</td>\n      <td>Rice, Mrs. William (Margaret Norton)</td>\n      <td>feminino</td>\n      <td>39.0</td>\n      <td>0</td>\n      <td>5</td>\n      <td>382652</td>\n      <td>29125.0000</td>\n      <td>NaN</td>\n      <td>Queenstow</td>\n    </tr>\n    <tr>\n      <th>887</th>\n      <td>888</td>\n      <td>sim</td>\n      <td>1</td>\n      <td>Graham, Miss. Margaret Edith</td>\n      <td>feminino</td>\n      <td>19.0</td>\n      <td>0</td>\n      <td>0</td>\n      <td>112053</td>\n      <td>30.0000</td>\n      <td>B42</td>\n      <td>Southampton</td>\n    </tr>\n    <tr>\n      <th>888</th>\n      <td>889</td>\n      <td>nao</td>\n      <td>3</td>\n      <td>Johnston, Miss. Catherine Helen \"Carrie\"</td>\n      <td>feminino</td>\n      <td>NaN</td>\n      <td>1</td>\n      <td>2</td>\n      <td>W./C. 6607</td>\n      <td>23.4500</td>\n      <td>NaN</td>\n      <td>Southampton</td>\n    </tr>\n  </tbody>\n</table>\n<p>314 rows × 12 columns</p>\n</div>"
     },
     "execution_count": 4,
     "metadata": {},
     "output_type": "execute_result"
    }
   ],
   "source": [
    "# questao 4\n",
    "passageiras = df.loc[df[\"sexo\"] == \"feminino\"]\n",
    "passageiras"
   ],
   "metadata": {
    "collapsed": false,
    "pycharm": {
     "name": "#%%\n"
    }
   }
  },
  {
   "cell_type": "code",
   "execution_count": 6,
   "outputs": [
    {
     "data": {
      "text/plain": "     id_passageiro sobreviveu  classe  \\\n43              44        sim       2   \n381            382        sim       3   \n448            449        sim       3   \n469            470        sim       3   \n644            645        sim       3   \n691            692        sim       3   \n731            732        nao       3   \n803            804        sim       3   \n827            828        sim       2   \n852            853        nao       3   \n\n                                         nome       sexo  idade  \\\n43   Laroche, Miss. Simonne Marie Anne Andree   feminino   3.00   \n381               Nakid, Miss. Maria (\"Mary\")   feminino   1.00   \n448            Baclini, Miss. Marie Catherine   feminino   5.00   \n469             Baclini, Miss. Helene Barbara   feminino   0.75   \n644                    Baclini, Miss. Eugenie   feminino   0.75   \n691                        Karun, Miss. Manca   feminino   4.00   \n731                  Hassan, Mr. Houssein G N  masculino  11.00   \n803           Thomas, Master. Assad Alexander  masculino   0.42   \n827                     Mallet, Master. Andre  masculino   1.00   \n852                   Boulos, Miss. Nourelain   feminino   9.00   \n\n     irmaos_conjuge  pais_criancas         passagem   tarifa cabine   embarque  \n43                1              2    SC/Paris 2123  41.5792    NaN  Cherbourg  \n381               0              2             2653  15.7417    NaN  Cherbourg  \n448               2              1             2666  19.2583    NaN  Cherbourg  \n469               2              1             2666  19.2583    NaN  Cherbourg  \n644               2              1             2666  19.2583    NaN  Cherbourg  \n691               0              1           349256  13.4167    NaN  Cherbourg  \n731               0              0             2699  18.7875    NaN  Cherbourg  \n803               0              1             2625   8.5167    NaN  Cherbourg  \n827               0              2  S.C./PARIS 2079  37.0042    NaN  Cherbourg  \n852               1              1             2678  15.2458    NaN  Cherbourg  ",
      "text/html": "<div>\n<style scoped>\n    .dataframe tbody tr th:only-of-type {\n        vertical-align: middle;\n    }\n\n    .dataframe tbody tr th {\n        vertical-align: top;\n    }\n\n    .dataframe thead th {\n        text-align: right;\n    }\n</style>\n<table border=\"1\" class=\"dataframe\">\n  <thead>\n    <tr style=\"text-align: right;\">\n      <th></th>\n      <th>id_passageiro</th>\n      <th>sobreviveu</th>\n      <th>classe</th>\n      <th>nome</th>\n      <th>sexo</th>\n      <th>idade</th>\n      <th>irmaos_conjuge</th>\n      <th>pais_criancas</th>\n      <th>passagem</th>\n      <th>tarifa</th>\n      <th>cabine</th>\n      <th>embarque</th>\n    </tr>\n  </thead>\n  <tbody>\n    <tr>\n      <th>43</th>\n      <td>44</td>\n      <td>sim</td>\n      <td>2</td>\n      <td>Laroche, Miss. Simonne Marie Anne Andree</td>\n      <td>feminino</td>\n      <td>3.00</td>\n      <td>1</td>\n      <td>2</td>\n      <td>SC/Paris 2123</td>\n      <td>41.5792</td>\n      <td>NaN</td>\n      <td>Cherbourg</td>\n    </tr>\n    <tr>\n      <th>381</th>\n      <td>382</td>\n      <td>sim</td>\n      <td>3</td>\n      <td>Nakid, Miss. Maria (\"Mary\")</td>\n      <td>feminino</td>\n      <td>1.00</td>\n      <td>0</td>\n      <td>2</td>\n      <td>2653</td>\n      <td>15.7417</td>\n      <td>NaN</td>\n      <td>Cherbourg</td>\n    </tr>\n    <tr>\n      <th>448</th>\n      <td>449</td>\n      <td>sim</td>\n      <td>3</td>\n      <td>Baclini, Miss. Marie Catherine</td>\n      <td>feminino</td>\n      <td>5.00</td>\n      <td>2</td>\n      <td>1</td>\n      <td>2666</td>\n      <td>19.2583</td>\n      <td>NaN</td>\n      <td>Cherbourg</td>\n    </tr>\n    <tr>\n      <th>469</th>\n      <td>470</td>\n      <td>sim</td>\n      <td>3</td>\n      <td>Baclini, Miss. Helene Barbara</td>\n      <td>feminino</td>\n      <td>0.75</td>\n      <td>2</td>\n      <td>1</td>\n      <td>2666</td>\n      <td>19.2583</td>\n      <td>NaN</td>\n      <td>Cherbourg</td>\n    </tr>\n    <tr>\n      <th>644</th>\n      <td>645</td>\n      <td>sim</td>\n      <td>3</td>\n      <td>Baclini, Miss. Eugenie</td>\n      <td>feminino</td>\n      <td>0.75</td>\n      <td>2</td>\n      <td>1</td>\n      <td>2666</td>\n      <td>19.2583</td>\n      <td>NaN</td>\n      <td>Cherbourg</td>\n    </tr>\n    <tr>\n      <th>691</th>\n      <td>692</td>\n      <td>sim</td>\n      <td>3</td>\n      <td>Karun, Miss. Manca</td>\n      <td>feminino</td>\n      <td>4.00</td>\n      <td>0</td>\n      <td>1</td>\n      <td>349256</td>\n      <td>13.4167</td>\n      <td>NaN</td>\n      <td>Cherbourg</td>\n    </tr>\n    <tr>\n      <th>731</th>\n      <td>732</td>\n      <td>nao</td>\n      <td>3</td>\n      <td>Hassan, Mr. Houssein G N</td>\n      <td>masculino</td>\n      <td>11.00</td>\n      <td>0</td>\n      <td>0</td>\n      <td>2699</td>\n      <td>18.7875</td>\n      <td>NaN</td>\n      <td>Cherbourg</td>\n    </tr>\n    <tr>\n      <th>803</th>\n      <td>804</td>\n      <td>sim</td>\n      <td>3</td>\n      <td>Thomas, Master. Assad Alexander</td>\n      <td>masculino</td>\n      <td>0.42</td>\n      <td>0</td>\n      <td>1</td>\n      <td>2625</td>\n      <td>8.5167</td>\n      <td>NaN</td>\n      <td>Cherbourg</td>\n    </tr>\n    <tr>\n      <th>827</th>\n      <td>828</td>\n      <td>sim</td>\n      <td>2</td>\n      <td>Mallet, Master. Andre</td>\n      <td>masculino</td>\n      <td>1.00</td>\n      <td>0</td>\n      <td>2</td>\n      <td>S.C./PARIS 2079</td>\n      <td>37.0042</td>\n      <td>NaN</td>\n      <td>Cherbourg</td>\n    </tr>\n    <tr>\n      <th>852</th>\n      <td>853</td>\n      <td>nao</td>\n      <td>3</td>\n      <td>Boulos, Miss. Nourelain</td>\n      <td>feminino</td>\n      <td>9.00</td>\n      <td>1</td>\n      <td>1</td>\n      <td>2678</td>\n      <td>15.2458</td>\n      <td>NaN</td>\n      <td>Cherbourg</td>\n    </tr>\n  </tbody>\n</table>\n</div>"
     },
     "execution_count": 6,
     "metadata": {},
     "output_type": "execute_result"
    }
   ],
   "source": [
    "#questão 5\n",
    "criancas_cherbourg = df.loc[(df[\"idade\"] < 12) & (df[\"embarque\"] == \"Cherbourg\")]\n",
    "criancas_cherbourg"
   ],
   "metadata": {
    "collapsed": false,
    "pycharm": {
     "name": "#%%\n"
    }
   }
  },
  {
   "cell_type": "code",
   "execution_count": 10,
   "outputs": [
    {
     "data": {
      "text/plain": "                                                  nome       sexo  classe  \\\n0                              Braund, Mr. Owen Harris  masculino       3   \n1    Cumings, Mrs. John Bradley (Florence Briggs Th...   feminino       1   \n2                               Heikkinen, Miss. Laina   feminino       3   \n3         Futrelle, Mrs. Jacques Heath (Lily May Peel)   feminino       1   \n4                             Allen, Mr. William Henry  masculino       3   \n..                                                 ...        ...     ...   \n886                              Montvila, Rev. Juozas  masculino       2   \n887                       Graham, Miss. Margaret Edith   feminino       1   \n888           Johnston, Miss. Catherine Helen \"Carrie\"   feminino       3   \n889                              Behr, Mr. Karl Howell  masculino       1   \n890                                Dooley, Mr. Patrick  masculino       3   \n\n        embarque  \n0    Southampton  \n1      Cherbourg  \n2    Southampton  \n3    Southampton  \n4    Southampton  \n..           ...  \n886  Southampton  \n887  Southampton  \n888  Southampton  \n889    Cherbourg  \n890    Queenstow  \n\n[891 rows x 4 columns]",
      "text/html": "<div>\n<style scoped>\n    .dataframe tbody tr th:only-of-type {\n        vertical-align: middle;\n    }\n\n    .dataframe tbody tr th {\n        vertical-align: top;\n    }\n\n    .dataframe thead th {\n        text-align: right;\n    }\n</style>\n<table border=\"1\" class=\"dataframe\">\n  <thead>\n    <tr style=\"text-align: right;\">\n      <th></th>\n      <th>nome</th>\n      <th>sexo</th>\n      <th>classe</th>\n      <th>embarque</th>\n    </tr>\n  </thead>\n  <tbody>\n    <tr>\n      <th>0</th>\n      <td>Braund, Mr. Owen Harris</td>\n      <td>masculino</td>\n      <td>3</td>\n      <td>Southampton</td>\n    </tr>\n    <tr>\n      <th>1</th>\n      <td>Cumings, Mrs. John Bradley (Florence Briggs Th...</td>\n      <td>feminino</td>\n      <td>1</td>\n      <td>Cherbourg</td>\n    </tr>\n    <tr>\n      <th>2</th>\n      <td>Heikkinen, Miss. Laina</td>\n      <td>feminino</td>\n      <td>3</td>\n      <td>Southampton</td>\n    </tr>\n    <tr>\n      <th>3</th>\n      <td>Futrelle, Mrs. Jacques Heath (Lily May Peel)</td>\n      <td>feminino</td>\n      <td>1</td>\n      <td>Southampton</td>\n    </tr>\n    <tr>\n      <th>4</th>\n      <td>Allen, Mr. William Henry</td>\n      <td>masculino</td>\n      <td>3</td>\n      <td>Southampton</td>\n    </tr>\n    <tr>\n      <th>...</th>\n      <td>...</td>\n      <td>...</td>\n      <td>...</td>\n      <td>...</td>\n    </tr>\n    <tr>\n      <th>886</th>\n      <td>Montvila, Rev. Juozas</td>\n      <td>masculino</td>\n      <td>2</td>\n      <td>Southampton</td>\n    </tr>\n    <tr>\n      <th>887</th>\n      <td>Graham, Miss. Margaret Edith</td>\n      <td>feminino</td>\n      <td>1</td>\n      <td>Southampton</td>\n    </tr>\n    <tr>\n      <th>888</th>\n      <td>Johnston, Miss. Catherine Helen \"Carrie\"</td>\n      <td>feminino</td>\n      <td>3</td>\n      <td>Southampton</td>\n    </tr>\n    <tr>\n      <th>889</th>\n      <td>Behr, Mr. Karl Howell</td>\n      <td>masculino</td>\n      <td>1</td>\n      <td>Cherbourg</td>\n    </tr>\n    <tr>\n      <th>890</th>\n      <td>Dooley, Mr. Patrick</td>\n      <td>masculino</td>\n      <td>3</td>\n      <td>Queenstow</td>\n    </tr>\n  </tbody>\n</table>\n<p>891 rows × 4 columns</p>\n</div>"
     },
     "execution_count": 10,
     "metadata": {},
     "output_type": "execute_result"
    }
   ],
   "source": [
    "# questão 6\n",
    "titanic_menor = df[[\"nome\", \"idade\", \"classe\", \"embarque\"]]\n",
    "titanic_menor\n",
    "# titanic_menor = df.iloc[:,[3, 5, 2, 11]] # também funciona"
   ],
   "metadata": {
    "collapsed": false,
    "pycharm": {
     "name": "#%%\n"
    }
   }
  },
  {
   "cell_type": "code",
   "execution_count": 13,
   "outputs": [
    {
     "data": {
      "text/plain": "     id_passageiro sobreviveu  classe  \\\n0                1        nao       3   \n1                2        sim       1   \n2                3        sim       3   \n3                4        sim       1   \n4                5        nao       3   \n..             ...        ...     ...   \n886            887        nao       2   \n887            888        sim       1   \n888            889        nao       3   \n889            890        sim       1   \n890            891        nao       3   \n\n                                                  nome       sexo  idade  \\\n0                              Braund, Mr. Owen Harris  masculino   22.0   \n1    Cumings, Mrs. John Bradley (Florence Briggs Th...   feminino   38.0   \n2                               Heikkinen, Miss. Laina   feminino   26.0   \n3         Futrelle, Mrs. Jacques Heath (Lily May Peel)   feminino   35.0   \n4                             Allen, Mr. William Henry  masculino   35.0   \n..                                                 ...        ...    ...   \n886                              Montvila, Rev. Juozas  masculino   27.0   \n887                       Graham, Miss. Margaret Edith   feminino   19.0   \n888           Johnston, Miss. Catherine Helen \"Carrie\"   feminino    NaN   \n889                              Behr, Mr. Karl Howell  masculino   26.0   \n890                                Dooley, Mr. Patrick  masculino   32.0   \n\n     irmaos_conjuge  pais_criancas          passagem     tarifa cabine  \\\n0                 1              0         A/5 21171     7.2500    NaN   \n1                 1              0          PC 17599    71.2833    C85   \n2                 0              0  STON/O2. 3101282  7925.0000    NaN   \n3                 1              0            113803    53.1000   C123   \n4                 0              0            373450     8.0500    NaN   \n..              ...            ...               ...        ...    ...   \n886               0              0            211536    13.0000    NaN   \n887               0              0            112053    30.0000    B42   \n888               1              2        W./C. 6607    23.4500    NaN   \n889               0              0            111369    30.0000   C148   \n890               0              0            370376     7.7500    NaN   \n\n        embarque  tarifa_reais  \n0    Southampton     46.617500  \n1      Cherbourg    458.351619  \n2    Southampton  50957.750000  \n3    Southampton    341.433000  \n4    Southampton     51.761500  \n..           ...           ...  \n886  Southampton     83.590000  \n887  Southampton    192.900000  \n888  Southampton    150.783500  \n889    Cherbourg    192.900000  \n890    Queenstow     49.832500  \n\n[891 rows x 13 columns]",
      "text/html": "<div>\n<style scoped>\n    .dataframe tbody tr th:only-of-type {\n        vertical-align: middle;\n    }\n\n    .dataframe tbody tr th {\n        vertical-align: top;\n    }\n\n    .dataframe thead th {\n        text-align: right;\n    }\n</style>\n<table border=\"1\" class=\"dataframe\">\n  <thead>\n    <tr style=\"text-align: right;\">\n      <th></th>\n      <th>id_passageiro</th>\n      <th>sobreviveu</th>\n      <th>classe</th>\n      <th>nome</th>\n      <th>sexo</th>\n      <th>idade</th>\n      <th>irmaos_conjuge</th>\n      <th>pais_criancas</th>\n      <th>passagem</th>\n      <th>tarifa</th>\n      <th>cabine</th>\n      <th>embarque</th>\n      <th>tarifa_reais</th>\n    </tr>\n  </thead>\n  <tbody>\n    <tr>\n      <th>0</th>\n      <td>1</td>\n      <td>nao</td>\n      <td>3</td>\n      <td>Braund, Mr. Owen Harris</td>\n      <td>masculino</td>\n      <td>22.0</td>\n      <td>1</td>\n      <td>0</td>\n      <td>A/5 21171</td>\n      <td>7.2500</td>\n      <td>NaN</td>\n      <td>Southampton</td>\n      <td>46.617500</td>\n    </tr>\n    <tr>\n      <th>1</th>\n      <td>2</td>\n      <td>sim</td>\n      <td>1</td>\n      <td>Cumings, Mrs. John Bradley (Florence Briggs Th...</td>\n      <td>feminino</td>\n      <td>38.0</td>\n      <td>1</td>\n      <td>0</td>\n      <td>PC 17599</td>\n      <td>71.2833</td>\n      <td>C85</td>\n      <td>Cherbourg</td>\n      <td>458.351619</td>\n    </tr>\n    <tr>\n      <th>2</th>\n      <td>3</td>\n      <td>sim</td>\n      <td>3</td>\n      <td>Heikkinen, Miss. Laina</td>\n      <td>feminino</td>\n      <td>26.0</td>\n      <td>0</td>\n      <td>0</td>\n      <td>STON/O2. 3101282</td>\n      <td>7925.0000</td>\n      <td>NaN</td>\n      <td>Southampton</td>\n      <td>50957.750000</td>\n    </tr>\n    <tr>\n      <th>3</th>\n      <td>4</td>\n      <td>sim</td>\n      <td>1</td>\n      <td>Futrelle, Mrs. Jacques Heath (Lily May Peel)</td>\n      <td>feminino</td>\n      <td>35.0</td>\n      <td>1</td>\n      <td>0</td>\n      <td>113803</td>\n      <td>53.1000</td>\n      <td>C123</td>\n      <td>Southampton</td>\n      <td>341.433000</td>\n    </tr>\n    <tr>\n      <th>4</th>\n      <td>5</td>\n      <td>nao</td>\n      <td>3</td>\n      <td>Allen, Mr. William Henry</td>\n      <td>masculino</td>\n      <td>35.0</td>\n      <td>0</td>\n      <td>0</td>\n      <td>373450</td>\n      <td>8.0500</td>\n      <td>NaN</td>\n      <td>Southampton</td>\n      <td>51.761500</td>\n    </tr>\n    <tr>\n      <th>...</th>\n      <td>...</td>\n      <td>...</td>\n      <td>...</td>\n      <td>...</td>\n      <td>...</td>\n      <td>...</td>\n      <td>...</td>\n      <td>...</td>\n      <td>...</td>\n      <td>...</td>\n      <td>...</td>\n      <td>...</td>\n      <td>...</td>\n    </tr>\n    <tr>\n      <th>886</th>\n      <td>887</td>\n      <td>nao</td>\n      <td>2</td>\n      <td>Montvila, Rev. Juozas</td>\n      <td>masculino</td>\n      <td>27.0</td>\n      <td>0</td>\n      <td>0</td>\n      <td>211536</td>\n      <td>13.0000</td>\n      <td>NaN</td>\n      <td>Southampton</td>\n      <td>83.590000</td>\n    </tr>\n    <tr>\n      <th>887</th>\n      <td>888</td>\n      <td>sim</td>\n      <td>1</td>\n      <td>Graham, Miss. Margaret Edith</td>\n      <td>feminino</td>\n      <td>19.0</td>\n      <td>0</td>\n      <td>0</td>\n      <td>112053</td>\n      <td>30.0000</td>\n      <td>B42</td>\n      <td>Southampton</td>\n      <td>192.900000</td>\n    </tr>\n    <tr>\n      <th>888</th>\n      <td>889</td>\n      <td>nao</td>\n      <td>3</td>\n      <td>Johnston, Miss. Catherine Helen \"Carrie\"</td>\n      <td>feminino</td>\n      <td>NaN</td>\n      <td>1</td>\n      <td>2</td>\n      <td>W./C. 6607</td>\n      <td>23.4500</td>\n      <td>NaN</td>\n      <td>Southampton</td>\n      <td>150.783500</td>\n    </tr>\n    <tr>\n      <th>889</th>\n      <td>890</td>\n      <td>sim</td>\n      <td>1</td>\n      <td>Behr, Mr. Karl Howell</td>\n      <td>masculino</td>\n      <td>26.0</td>\n      <td>0</td>\n      <td>0</td>\n      <td>111369</td>\n      <td>30.0000</td>\n      <td>C148</td>\n      <td>Cherbourg</td>\n      <td>192.900000</td>\n    </tr>\n    <tr>\n      <th>890</th>\n      <td>891</td>\n      <td>nao</td>\n      <td>3</td>\n      <td>Dooley, Mr. Patrick</td>\n      <td>masculino</td>\n      <td>32.0</td>\n      <td>0</td>\n      <td>0</td>\n      <td>370376</td>\n      <td>7.7500</td>\n      <td>NaN</td>\n      <td>Queenstow</td>\n      <td>49.832500</td>\n    </tr>\n  </tbody>\n</table>\n<p>891 rows × 13 columns</p>\n</div>"
     },
     "execution_count": 13,
     "metadata": {},
     "output_type": "execute_result"
    }
   ],
   "source": [
    "# questão 7\n",
    "df[\"tarifa_reais\"] = df[\"tarifa\"] * 6.43\n",
    "df"
   ],
   "metadata": {
    "collapsed": false,
    "pycharm": {
     "name": "#%%\n"
    }
   }
  },
  {
   "cell_type": "code",
   "execution_count": 18,
   "outputs": [
    {
     "data": {
      "text/plain": "            id_passageiro\nsobreviveu               \nnao                   549\nsim                   342",
      "text/html": "<div>\n<style scoped>\n    .dataframe tbody tr th:only-of-type {\n        vertical-align: middle;\n    }\n\n    .dataframe tbody tr th {\n        vertical-align: top;\n    }\n\n    .dataframe thead th {\n        text-align: right;\n    }\n</style>\n<table border=\"1\" class=\"dataframe\">\n  <thead>\n    <tr style=\"text-align: right;\">\n      <th></th>\n      <th>id_passageiro</th>\n    </tr>\n    <tr>\n      <th>sobreviveu</th>\n      <th></th>\n    </tr>\n  </thead>\n  <tbody>\n    <tr>\n      <th>nao</th>\n      <td>549</td>\n    </tr>\n    <tr>\n      <th>sim</th>\n      <td>342</td>\n    </tr>\n  </tbody>\n</table>\n</div>"
     },
     "execution_count": 18,
     "metadata": {},
     "output_type": "execute_result"
    }
   ],
   "source": [
    "# questão 8\n",
    "df[[\"sobreviveu\", \"id_passageiro\"]].groupby([\"sobreviveu\"]).count()\n",
    "# df.groupby([\"sobreviveu\"]).count() também pode ser considerado certo, porém é preciso se atentar para a coluna id_passageiro pois o exercicio pede o número de passageiros que sobreviveram ou não"
   ],
   "metadata": {
    "collapsed": false,
    "pycharm": {
     "name": "#%%\n"
    }
   }
  },
  {
   "cell_type": "code",
   "execution_count": 20,
   "outputs": [
    {
     "data": {
      "text/plain": "                   tarifa         \n                     mean   median\nembarque                          \nCherbourg    12709.345662  37.0042\nQueenstow     2002.842913   7.7500\nSouthampton   2015.306986  18.7500",
      "text/html": "<div>\n<style scoped>\n    .dataframe tbody tr th:only-of-type {\n        vertical-align: middle;\n    }\n\n    .dataframe tbody tr th {\n        vertical-align: top;\n    }\n\n    .dataframe thead tr th {\n        text-align: left;\n    }\n\n    .dataframe thead tr:last-of-type th {\n        text-align: right;\n    }\n</style>\n<table border=\"1\" class=\"dataframe\">\n  <thead>\n    <tr>\n      <th></th>\n      <th colspan=\"2\" halign=\"left\">tarifa</th>\n    </tr>\n    <tr>\n      <th></th>\n      <th>mean</th>\n      <th>median</th>\n    </tr>\n    <tr>\n      <th>embarque</th>\n      <th></th>\n      <th></th>\n    </tr>\n  </thead>\n  <tbody>\n    <tr>\n      <th>Cherbourg</th>\n      <td>12709.345662</td>\n      <td>37.0042</td>\n    </tr>\n    <tr>\n      <th>Queenstow</th>\n      <td>2002.842913</td>\n      <td>7.7500</td>\n    </tr>\n    <tr>\n      <th>Southampton</th>\n      <td>2015.306986</td>\n      <td>18.7500</td>\n    </tr>\n  </tbody>\n</table>\n</div>"
     },
     "execution_count": 20,
     "metadata": {},
     "output_type": "execute_result"
    }
   ],
   "source": [
    "# questão 9\n",
    "df[[\"embarque\", \"tarifa\"]].groupby([\"embarque\"]).agg(['mean','median'])"
   ],
   "metadata": {
    "collapsed": false,
    "pycharm": {
     "name": "#%%\n"
    }
   }
  },
  {
   "cell_type": "code",
   "execution_count": 21,
   "outputs": [
    {
     "data": {
      "text/plain": "        id_passageiro\nclasse               \n1                 216\n2                 184\n3                 491",
      "text/html": "<div>\n<style scoped>\n    .dataframe tbody tr th:only-of-type {\n        vertical-align: middle;\n    }\n\n    .dataframe tbody tr th {\n        vertical-align: top;\n    }\n\n    .dataframe thead th {\n        text-align: right;\n    }\n</style>\n<table border=\"1\" class=\"dataframe\">\n  <thead>\n    <tr style=\"text-align: right;\">\n      <th></th>\n      <th>id_passageiro</th>\n    </tr>\n    <tr>\n      <th>classe</th>\n      <th></th>\n    </tr>\n  </thead>\n  <tbody>\n    <tr>\n      <th>1</th>\n      <td>216</td>\n    </tr>\n    <tr>\n      <th>2</th>\n      <td>184</td>\n    </tr>\n    <tr>\n      <th>3</th>\n      <td>491</td>\n    </tr>\n  </tbody>\n</table>\n</div>"
     },
     "execution_count": 21,
     "metadata": {},
     "output_type": "execute_result"
    }
   ],
   "source": [
    "# questão 10\n",
    "df[[\"classe\", \"id_passageiro\"]].groupby([\"classe\"]).count()"
   ],
   "metadata": {
    "collapsed": false,
    "pycharm": {
     "name": "#%%\n"
    }
   }
  },
  {
   "cell_type": "code",
   "execution_count": 23,
   "outputs": [
    {
     "data": {
      "text/plain": "                   id_passageiro\nclasse sobreviveu               \n1      nao                    80\n       sim                   136\n2      nao                    97\n       sim                    87\n3      nao                   372\n       sim                   119",
      "text/html": "<div>\n<style scoped>\n    .dataframe tbody tr th:only-of-type {\n        vertical-align: middle;\n    }\n\n    .dataframe tbody tr th {\n        vertical-align: top;\n    }\n\n    .dataframe thead th {\n        text-align: right;\n    }\n</style>\n<table border=\"1\" class=\"dataframe\">\n  <thead>\n    <tr style=\"text-align: right;\">\n      <th></th>\n      <th></th>\n      <th>id_passageiro</th>\n    </tr>\n    <tr>\n      <th>classe</th>\n      <th>sobreviveu</th>\n      <th></th>\n    </tr>\n  </thead>\n  <tbody>\n    <tr>\n      <th rowspan=\"2\" valign=\"top\">1</th>\n      <th>nao</th>\n      <td>80</td>\n    </tr>\n    <tr>\n      <th>sim</th>\n      <td>136</td>\n    </tr>\n    <tr>\n      <th rowspan=\"2\" valign=\"top\">2</th>\n      <th>nao</th>\n      <td>97</td>\n    </tr>\n    <tr>\n      <th>sim</th>\n      <td>87</td>\n    </tr>\n    <tr>\n      <th rowspan=\"2\" valign=\"top\">3</th>\n      <th>nao</th>\n      <td>372</td>\n    </tr>\n    <tr>\n      <th>sim</th>\n      <td>119</td>\n    </tr>\n  </tbody>\n</table>\n</div>"
     },
     "execution_count": 23,
     "metadata": {},
     "output_type": "execute_result"
    }
   ],
   "source": [
    "# questão 11\n",
    "df[[\"classe\", \"sobreviveu\", \"id_passageiro\"]].groupby([\"classe\", \"sobreviveu\"]).count()\n",
    "# Mesmo a classe 1 não sendo a classe com o maior número de passageiros, podemos observar que o maior número de sobreviventes (136) eram desta classe."
   ],
   "metadata": {
    "collapsed": false,
    "pycharm": {
     "name": "#%%\n"
    }
   }
  },
  {
   "cell_type": "code",
   "execution_count": 24,
   "outputs": [
    {
     "data": {
      "text/plain": "                      id_passageiro\nsobreviveu sexo                    \nnao        feminino              81\n           masculino            468\nsim        feminino             233\n           masculino            109",
      "text/html": "<div>\n<style scoped>\n    .dataframe tbody tr th:only-of-type {\n        vertical-align: middle;\n    }\n\n    .dataframe tbody tr th {\n        vertical-align: top;\n    }\n\n    .dataframe thead th {\n        text-align: right;\n    }\n</style>\n<table border=\"1\" class=\"dataframe\">\n  <thead>\n    <tr style=\"text-align: right;\">\n      <th></th>\n      <th></th>\n      <th>id_passageiro</th>\n    </tr>\n    <tr>\n      <th>sobreviveu</th>\n      <th>sexo</th>\n      <th></th>\n    </tr>\n  </thead>\n  <tbody>\n    <tr>\n      <th rowspan=\"2\" valign=\"top\">nao</th>\n      <th>feminino</th>\n      <td>81</td>\n    </tr>\n    <tr>\n      <th>masculino</th>\n      <td>468</td>\n    </tr>\n    <tr>\n      <th rowspan=\"2\" valign=\"top\">sim</th>\n      <th>feminino</th>\n      <td>233</td>\n    </tr>\n    <tr>\n      <th>masculino</th>\n      <td>109</td>\n    </tr>\n  </tbody>\n</table>\n</div>"
     },
     "execution_count": 24,
     "metadata": {},
     "output_type": "execute_result"
    }
   ],
   "source": [
    "# questão 12\n",
    "df[[\"sexo\", \"sobreviveu\", \"id_passageiro\"]].groupby([\"sobreviveu\", \"sexo\"]).count()\n",
    "# Podemos observar que as mulheres foram quem mais sobreviveram com 233 pessoas"
   ],
   "metadata": {
    "collapsed": false,
    "pycharm": {
     "name": "#%%\n"
    }
   }
  }
 ],
 "metadata": {
  "kernelspec": {
   "display_name": "Python 3",
   "language": "python",
   "name": "python3"
  },
  "language_info": {
   "codemirror_mode": {
    "name": "ipython",
    "version": 2
   },
   "file_extension": ".py",
   "mimetype": "text/x-python",
   "name": "python",
   "nbconvert_exporter": "python",
   "pygments_lexer": "ipython2",
   "version": "2.7.6"
  }
 },
 "nbformat": 4,
 "nbformat_minor": 0
}