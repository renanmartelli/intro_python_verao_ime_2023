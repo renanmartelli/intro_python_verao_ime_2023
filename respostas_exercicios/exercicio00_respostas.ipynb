{
 "cells": [
  {
   "cell_type": "markdown",
   "source": [
    "## Exercícios - aula 00"
   ],
   "metadata": {
    "collapsed": false,
    "pycharm": {
     "name": "#%% md\n"
    }
   }
  },
  {
   "cell_type": "markdown",
   "source": [
    "1) Quantos segundos há em uma hora? Multiplique o número de segundos em um minuto pelo número de minutos em uma hora.\n",
    "\n",
    "2) Armazene o resultado desta operacão em uma variável chamada *segundos_por_hora*\n",
    "\n",
    "3) Quantos segundos há em um dia? Use a sua variável *segundos_por_hora*. Armazene o resultado desta última operacão em uma variável chamada *segundos_por_dia*\n",
    "\n",
    "4) Divida segundos_por_dia por segundos_por_hora. Use a divisão do tipo floating-point division (tabela abaixo) e salve o resultado na variavel *div_float*.\n",
    "\n",
    "5) Divida a variável *segundos_por_dia* por *segundos_por_hora* novamente, porém usando a divisão do tipo integer division (tabela abaixo) e salve o resultado na variável *div_int*.\n",
    "\n",
    "6) Com excessão da casa decimal, o valor obtido na questão 6 é igual ao obtido na questão 5? Faca a comparacão dos resultados e diga qual o tipo de variável o Python retorna como resposta."
   ],
   "metadata": {
    "collapsed": false,
    "pycharm": {
     "name": "#%% md\n"
    }
   }
  },
  {
   "cell_type": "markdown",
   "source": [
    "## Questão 1\n",
    "\n",
    "Como 1h possui 60 minutos e 1 minuto possui 60 segundos, temos que em 1h temos 3600 segundos, pois:"
   ],
   "metadata": {
    "collapsed": false,
    "pycharm": {
     "name": "#%% md\n"
    }
   }
  },
  {
   "cell_type": "code",
   "execution_count": 1,
   "outputs": [
    {
     "data": {
      "text/plain": "3600"
     },
     "execution_count": 1,
     "metadata": {},
     "output_type": "execute_result"
    }
   ],
   "source": [
    "60 * 60 #60 minutos vezes 60 segundos"
   ],
   "metadata": {
    "collapsed": false,
    "pycharm": {
     "name": "#%%\n"
    }
   }
  },
  {
   "cell_type": "markdown",
   "source": [
    "## Questão 2"
   ],
   "metadata": {
    "collapsed": false,
    "pycharm": {
     "name": "#%% md\n"
    }
   }
  },
  {
   "cell_type": "code",
   "execution_count": 3,
   "outputs": [],
   "source": [
    "segundos_por_hora = 60 * 60"
   ],
   "metadata": {
    "collapsed": false,
    "pycharm": {
     "name": "#%%\n"
    }
   }
  },
  {
   "cell_type": "markdown",
   "source": [
    "## Questão 3\n",
    "Como um dia possui 24 horas, temos:"
   ],
   "metadata": {
    "collapsed": false,
    "pycharm": {
     "name": "#%% md\n"
    }
   }
  },
  {
   "cell_type": "code",
   "execution_count": 4,
   "outputs": [],
   "source": [
    "segundos_por_dia = segundos_por_hora * 24"
   ],
   "metadata": {
    "collapsed": false,
    "pycharm": {
     "name": "#%%\n"
    }
   }
  },
  {
   "cell_type": "markdown",
   "source": [
    "## Questão 4"
   ],
   "metadata": {
    "collapsed": false,
    "pycharm": {
     "name": "#%% md\n"
    }
   }
  },
  {
   "cell_type": "code",
   "execution_count": 5,
   "outputs": [],
   "source": [
    "div_float = segundos_por_dia / segundos_por_hora"
   ],
   "metadata": {
    "collapsed": false,
    "pycharm": {
     "name": "#%%\n"
    }
   }
  },
  {
   "cell_type": "markdown",
   "source": [
    "## Questão 5"
   ],
   "metadata": {
    "collapsed": false,
    "pycharm": {
     "name": "#%% md\n"
    }
   }
  },
  {
   "cell_type": "code",
   "execution_count": 6,
   "outputs": [],
   "source": [
    "div_int = segundos_por_dia //segundos_por_hora"
   ],
   "metadata": {
    "collapsed": false,
    "pycharm": {
     "name": "#%%\n"
    }
   }
  },
  {
   "cell_type": "markdown",
   "source": [
    "## Questão 6\n",
    "Sim, apesar das variáveis div_float e div_int serem do tipo float e int, respectivamente, os valores dessas duas variáveis são idênticos. Podemos ver isso com o uso do operador == que comparada se duas variáveis são idênticas e retorna True, caso elas sejam, e False, caso elas não sejam idênticas."
   ],
   "metadata": {
    "collapsed": false,
    "pycharm": {
     "name": "#%% md\n"
    }
   }
  },
  {
   "cell_type": "code",
   "execution_count": 8,
   "outputs": [
    {
     "name": "stdout",
     "output_type": "stream",
     "text": [
      "24.0\n"
     ]
    }
   ],
   "source": [
    "print(div_float)"
   ],
   "metadata": {
    "collapsed": false,
    "pycharm": {
     "name": "#%%\n"
    }
   }
  },
  {
   "cell_type": "code",
   "execution_count": 9,
   "outputs": [
    {
     "name": "stdout",
     "output_type": "stream",
     "text": [
      "24\n"
     ]
    }
   ],
   "source": [
    "print(div_int)"
   ],
   "metadata": {
    "collapsed": false,
    "pycharm": {
     "name": "#%%\n"
    }
   }
  },
  {
   "cell_type": "code",
   "execution_count": 7,
   "outputs": [
    {
     "data": {
      "text/plain": "True"
     },
     "execution_count": 7,
     "metadata": {},
     "output_type": "execute_result"
    }
   ],
   "source": [
    "div_float == div_int"
   ],
   "metadata": {
    "collapsed": false,
    "pycharm": {
     "name": "#%%\n"
    }
   }
  }
 ],
 "metadata": {
  "kernelspec": {
   "display_name": "Python 3",
   "language": "python",
   "name": "python3"
  },
  "language_info": {
   "codemirror_mode": {
    "name": "ipython",
    "version": 2
   },
   "file_extension": ".py",
   "mimetype": "text/x-python",
   "name": "python",
   "nbconvert_exporter": "python",
   "pygments_lexer": "ipython2",
   "version": "2.7.6"
  }
 },
 "nbformat": 4,
 "nbformat_minor": 0
}